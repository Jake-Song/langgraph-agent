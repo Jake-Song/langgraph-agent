{
 "cells": [
  {
   "cell_type": "code",
   "execution_count": 1,
   "metadata": {},
   "outputs": [],
   "source": [
    "from typing import Annotated\n",
    "\n",
    "from typing_extensions import TypedDict\n",
    "\n",
    "from langgraph.graph import StateGraph, START\n",
    "from langgraph.graph.message import add_messages\n",
    "\n",
    "\n",
    "class State(TypedDict):\n",
    "    # Messages have the type \"list\". The `add_messages` function\n",
    "    # in the annotation defines how this state key should be updated\n",
    "    # (in this case, it appends messages to the list, rather than overwriting them)\n",
    "    messages: Annotated[list, add_messages]\n",
    "\n",
    "\n",
    "graph_builder = StateGraph(State)"
   ]
  },
  {
   "cell_type": "code",
   "execution_count": 2,
   "metadata": {},
   "outputs": [],
   "source": [
    "from dotenv import load_dotenv\n",
    "from langchain.chat_models import init_chat_model\n",
    "\n",
    "load_dotenv()\n",
    "\n",
    "llm = init_chat_model(\"openai:gpt-4.1\")"
   ]
  },
  {
   "cell_type": "code",
   "execution_count": 3,
   "metadata": {},
   "outputs": [
    {
     "data": {
      "text/plain": [
       "<langgraph.graph.state.StateGraph at 0x7fd633294200>"
      ]
     },
     "execution_count": 3,
     "metadata": {},
     "output_type": "execute_result"
    }
   ],
   "source": [
    "def chatbot(state: State):\n",
    "    return {\"messages\": [llm.invoke(state[\"messages\"])]}\n",
    "\n",
    "\n",
    "# The first argument is the unique node name\n",
    "# The second argument is the function or object that will be called whenever\n",
    "# the node is used.\n",
    "graph_builder.add_node(\"chatbot\", chatbot)"
   ]
  },
  {
   "cell_type": "code",
   "execution_count": 4,
   "metadata": {},
   "outputs": [
    {
     "data": {
      "text/plain": [
       "<langgraph.graph.state.StateGraph at 0x7fd633294200>"
      ]
     },
     "execution_count": 4,
     "metadata": {},
     "output_type": "execute_result"
    }
   ],
   "source": [
    "graph_builder.add_edge(START, \"chatbot\")"
   ]
  },
  {
   "cell_type": "code",
   "execution_count": 5,
   "metadata": {},
   "outputs": [],
   "source": [
    "graph = graph_builder.compile()"
   ]
  },
  {
   "cell_type": "code",
   "execution_count": 6,
   "metadata": {},
   "outputs": [
    {
     "data": {
      "image/png": "[encoded data removed]",
      "text/plain": [
       "<IPython.core.display.Image object>"
      ]
     },
     "metadata": {},
     "output_type": "display_data"
    }
   ],
   "source": [
    "from IPython.display import Image, display\n",
    "\n",
    "try:\n",
    "    display(Image(graph.get_graph().draw_mermaid_png()))\n",
    "except Exception:\n",
    "    # This requires some extra dependencies and is optional\n",
    "    pass"
   ]
  },
  {
   "cell_type": "code",
   "execution_count": 7,
   "metadata": {},
   "outputs": [
    {
     "name": "stdout",
     "output_type": "stream",
     "text": [
      "Assistant: Hello! How can I help you today? 😊\n",
      "Goodbye!\n"
     ]
    }
   ],
   "source": [
    "def stream_graph_updates(user_input: str):\n",
    "    for event in graph.stream({\"messages\": [{\"role\": \"user\", \"content\": user_input}]}):\n",
    "        for value in event.values():\n",
    "            print(\"Assistant:\", value[\"messages\"][-1].content)\n",
    "\n",
    "\n",
    "while True:\n",
    "    try:\n",
    "        user_input = input(\"User: \")\n",
    "        if user_input.lower() in [\"quit\", \"exit\", \"q\"]:\n",
    "            print(\"Goodbye!\")\n",
    "            break\n",
    "        stream_graph_updates(user_input)\n",
    "    except:\n",
    "        # fallback if input() is not available\n",
    "        user_input = \"What do you know about LangGraph?\"\n",
    "        print(\"User: \" + user_input)\n",
    "        stream_graph_updates(user_input)\n",
    "        break"
   ]
  },
  {
   "cell_type": "code",
   "execution_count": 8,
   "metadata": {},
   "outputs": [],
   "source": [
    "from typing import Annotated\n",
    "\n",
    "from langchain.chat_models import init_chat_model\n",
    "from typing_extensions import TypedDict\n",
    "\n",
    "from langgraph.graph import StateGraph, START\n",
    "from langgraph.graph.message import add_messages\n",
    "\n",
    "\n",
    "class State(TypedDict):\n",
    "    messages: Annotated[list, add_messages]\n",
    "\n",
    "\n",
    "graph_builder = StateGraph(State)\n",
    "\n",
    "\n",
    "llm = init_chat_model(\"anthropic:claude-3-5-sonnet-latest\")\n",
    "\n",
    "\n",
    "def chatbot(state: State):\n",
    "    return {\"messages\": [llm.invoke(state[\"messages\"])]}\n",
    "\n",
    "\n",
    "# The first argument is the unique node name\n",
    "# The second argument is the function or object that will be called whenever\n",
    "# the node is used.\n",
    "graph_builder.add_node(\"chatbot\", chatbot)\n",
    "graph_builder.add_edge(START, \"chatbot\")\n",
    "graph = graph_builder.compile()"
   ]
  },
  {
   "cell_type": "code",
   "execution_count": 9,
   "metadata": {},
   "outputs": [
    {
     "name": "stdout",
     "output_type": "stream",
     "text": [
      "Assistant: My knowledge cutoff is in 2022. I aim to be direct and honest about this limitation while focusing on providing the most helpful and accurate responses I can within that scope. If you have a question about more recent events, I'd be happy to help you find reliable current sources.\n",
      "Goodbye!\n"
     ]
    }
   ],
   "source": [
    "while True:\n",
    "    user_input = input(\"User: \")\n",
    "    if user_input.lower() in [\"quit\", \"exit\", \"q\"]:\n",
    "        print(\"Goodbye!\")\n",
    "        break\n",
    "    stream_graph_updates(user_input)"
   ]
  },
  {
   "cell_type": "markdown",
   "metadata": {},
   "source": [
    "### add tools"
   ]
  },
  {
   "cell_type": "code",
   "execution_count": 10,
   "metadata": {},
   "outputs": [
    {
     "data": {
      "text/plain": [
       "{'query': \"What's a 'node' in LangGraph?\",\n",
       " 'follow_up_questions': None,\n",
       " 'answer': None,\n",
       " 'images': [],\n",
       " 'results': [{'title': 'LangGraph Basics: Understanding State, Schema, Nodes, and Edges',\n",
       "   'url': 'https://medium.com/@vivekvjnk/langgraph-basics-understanding-state-schema-nodes-and-edges-77f2fd17cae5',\n",
       "   'content': 'LangGraph Basics: Understanding State, Schema, Nodes, and Edges | by Story_Teller | Medium LangGraph Basics: Understanding State, Schema, Nodes, and Edges LangGraph Basics: Understanding State, Schema, Nodes, and Edges These predefined structures in the messaging app are synonymous with the schema of the state in LangGraph. Just as a messaging app ensures all interactions (messages) follow a consistent format, the schema in LangGraph ensures the state passed along edges is structured and interpretable. This static schema allows nodes to rely on a consistent state format, ensuring seamless communication along edges throughout the graph. In this article, we explored the foundational concepts of graph-based systems, drawing parallels to familiar messaging applications to illustrate how edges, nodes, and state transitions function seamlessly in dynamic workflows.',\n",
       "   'score': 0.6501347,\n",
       "   'raw_content': None},\n",
       "  {'title': 'LangGraph Tutorial: What Is LangGraph and How to Use It?',\n",
       "   'url': 'https://www.datacamp.com/tutorial/langgraph-tutorial',\n",
       "   'content': 'LangGraph is a library within the LangChain ecosystem that provides a framework for defining, coordinating, and executing multiple LLM agents (or chains) in a structured and efficient manner. By managing the flow of data and the sequence of operations, LangGraph allows developers to focus on the high-level logic of their applications rather than the intricacies of agent coordination. Whether you need a chatbot that can handle various types of user requests or a multi-agent system that performs complex tasks, LangGraph provides the tools to build exactly what you need. LangGraph significantly simplifies the development of complex LLM applications by providing a structured framework for managing state and coordinating agent interactions.',\n",
       "   'score': 0.5008063,\n",
       "   'raw_content': None}],\n",
       " 'response_time': 1.1}"
      ]
     },
     "execution_count": 10,
     "metadata": {},
     "output_type": "execute_result"
    }
   ],
   "source": [
    "from dotenv import load_dotenv\n",
    "from langchain_tavily import TavilySearch\n",
    "\n",
    "load_dotenv()\n",
    "\n",
    "tool = TavilySearch(max_results=2)\n",
    "tools = [tool]\n",
    "tool.invoke(\"What's a 'node' in LangGraph?\")"
   ]
  },
  {
   "cell_type": "code",
   "execution_count": 11,
   "metadata": {},
   "outputs": [],
   "source": [
    "from langchain.chat_models import init_chat_model\n",
    "\n",
    "llm = init_chat_model(\"openai:gpt-4.1\")"
   ]
  },
  {
   "cell_type": "code",
   "execution_count": 12,
   "metadata": {},
   "outputs": [
    {
     "data": {
      "text/plain": [
       "<langgraph.graph.state.StateGraph at 0x7fd606de9820>"
      ]
     },
     "execution_count": 12,
     "metadata": {},
     "output_type": "execute_result"
    }
   ],
   "source": [
    "from typing import Annotated\n",
    "\n",
    "from typing_extensions import TypedDict\n",
    "\n",
    "from langgraph.graph import StateGraph, START, END\n",
    "from langgraph.graph.message import add_messages\n",
    "\n",
    "class State(TypedDict):\n",
    "    messages: Annotated[list, add_messages]\n",
    "\n",
    "graph_builder = StateGraph(State)\n",
    "\n",
    "# Modification: tell the LLM which tools it can call\n",
    "# highlight-next-line\n",
    "llm_with_tools = llm.bind_tools(tools)\n",
    "\n",
    "def chatbot(state: State):\n",
    "    return {\"messages\": [llm_with_tools.invoke(state[\"messages\"])]}\n",
    "\n",
    "graph_builder.add_node(\"chatbot\", chatbot)"
   ]
  },
  {
   "cell_type": "code",
   "execution_count": 13,
   "metadata": {},
   "outputs": [
    {
     "data": {
      "text/plain": [
       "<langgraph.graph.state.StateGraph at 0x7fd606de9820>"
      ]
     },
     "execution_count": 13,
     "metadata": {},
     "output_type": "execute_result"
    }
   ],
   "source": [
    "import json\n",
    "\n",
    "from langchain_core.messages import ToolMessage\n",
    "\n",
    "\n",
    "class BasicToolNode:\n",
    "    \"\"\"A node that runs the tools requested in the last AIMessage.\"\"\"\n",
    "\n",
    "    def __init__(self, tools: list) -> None:\n",
    "        self.tools_by_name = {tool.name: tool for tool in tools}\n",
    "\n",
    "    def __call__(self, inputs: dict):\n",
    "        if messages := inputs.get(\"messages\", []):\n",
    "            message = messages[-1]\n",
    "        else:\n",
    "            raise ValueError(\"No message found in input\")\n",
    "        outputs = []\n",
    "        for tool_call in message.tool_calls:\n",
    "            tool_result = self.tools_by_name[tool_call[\"name\"]].invoke(\n",
    "                tool_call[\"args\"]\n",
    "            )\n",
    "            outputs.append(\n",
    "                ToolMessage(\n",
    "                    content=json.dumps(tool_result),\n",
    "                    name=tool_call[\"name\"],\n",
    "                    tool_call_id=tool_call[\"id\"],\n",
    "                )\n",
    "            )\n",
    "        return {\"messages\": outputs}\n",
    "\n",
    "\n",
    "tool_node = BasicToolNode(tools=[tool])\n",
    "graph_builder.add_node(\"tools\", tool_node)"
   ]
  },
  {
   "cell_type": "code",
   "execution_count": 14,
   "metadata": {},
   "outputs": [],
   "source": [
    "def route_tools(\n",
    "    state: State,\n",
    "):\n",
    "    \"\"\"\n",
    "    Use in the conditional_edge to route to the ToolNode if the last message\n",
    "    has tool calls. Otherwise, route to the end.\n",
    "    \"\"\"\n",
    "    if isinstance(state, list):\n",
    "        ai_message = state[-1]\n",
    "    elif messages := state.get(\"messages\", []):\n",
    "        ai_message = messages[-1]\n",
    "    else:\n",
    "        raise ValueError(f\"No messages found in input state to tool_edge: {state}\")\n",
    "    if hasattr(ai_message, \"tool_calls\") and len(ai_message.tool_calls) > 0:\n",
    "        return \"tools\"\n",
    "    return END\n",
    "\n",
    "\n",
    "# The `tools_condition` function returns \"tools\" if the chatbot asks to use a tool, and \"END\" if\n",
    "# it is fine directly responding. This conditional routing defines the main agent loop.\n",
    "graph_builder.add_conditional_edges(\n",
    "    \"chatbot\",\n",
    "    route_tools,\n",
    "    # The following dictionary lets you tell the graph to interpret the condition's outputs as a specific node\n",
    "    # It defaults to the identity function, but if you\n",
    "    # want to use a node named something else apart from \"tools\",\n",
    "    # You can update the value of the dictionary to something else\n",
    "    # e.g., \"tools\": \"my_tools\"\n",
    "    {\"tools\": \"tools\", END: END},\n",
    ")\n",
    "# Any time a tool is called, we return to the chatbot to decide the next step\n",
    "graph_builder.add_edge(\"tools\", \"chatbot\")\n",
    "graph_builder.add_edge(START, \"chatbot\")\n",
    "graph = graph_builder.compile()"
   ]
  },
  {
   "cell_type": "code",
   "execution_count": 15,
   "metadata": {},
   "outputs": [
    {
     "data": {
      "image/png": "[encoded data removed]",
      "text/plain": [
       "<IPython.core.display.Image object>"
      ]
     },
     "metadata": {},
     "output_type": "display_data"
    }
   ],
   "source": [
    "from IPython.display import Image, display\n",
    "\n",
    "try:\n",
    "    display(Image(graph.get_graph().draw_mermaid_png()))\n",
    "except Exception:\n",
    "    # This requires some extra dependencies and is optional\n",
    "    pass"
   ]
  },
  {
   "cell_type": "code",
   "execution_count": 17,
   "metadata": {},
   "outputs": [
    {
     "name": "stdout",
     "output_type": "stream",
     "text": [
      "Assistant: \n",
      "Assistant: {\"query\": \"LangGraph AI framework\", \"follow_up_questions\": null, \"answer\": null, \"images\": [], \"results\": [{\"title\": \"GitHub - langchain-ai/langgraphjs: Framework to build resilient ...\", \"url\": \"https://github.com/langchain-ai/langgraphjs\", \"content\": \"package.json | package.json |  |  LangGraph \\u2014 used by Replit, Uber, LinkedIn, GitLab and more \\u2014 is a low-level orchestration framework for building controllable agents. While langchain provides integrations and composable components to streamline LLM application development, the LangGraph library enables agent orchestration \\u2014 offering customizable architectures, long-term memory, and human-in-the-loop to reliably handle complex tasks. To learn more about how to use LangGraph, check out the docs. Get started quickly by building a full-stack LangGraph application using the create-agent-chat-app CLI: Why use LangGraph? LangGraph is built for developers who want to build powerful, adaptable AI agents. While LangGraph can be used standalone, it also integrates seamlessly with any LangChain product, giving developers a full suite of tools for building agents.\", \"score\": 0.8886914, \"raw_content\": null}, {\"title\": \"LangGraph - LangChain\", \"url\": \"https://www.langchain.com/langgraph\", \"content\": \"[LangGraph](https://langchain-ai.github.io/langgraph/tutorials/introduction/)[LangSmith](https://docs.smith.langchain.com/)[LangChain](https://python.langchain.com/docs/introduction/) ![](https://cdn.prod.website-files.com/65b8cd72835ceeacd4449a53/667b080e4b3ca12dc5d5d439_Langgraph%20UI-2.webp) [Read a conceptual guide](https://langchain-ai.github.io/langgraph/concepts/agentic_concepts/#human-in-the-loop) ![](https://cdn.prod.website-files.com/65b8cd72835ceeacd4449a53/68152f21a3b30d65d6c71bb3_Customizable-Agent-Architectures_v3%20(1).gif) [See different agent architectures](https://langchain-ai.github.io/langgraph/concepts/agentic_concepts/) [Learn about agent memory](https://langchain-ai.github.io/langgraph/concepts/memory/) ![](https://cdn.prod.website-files.com/65b8cd72835ceeacd4449a53/67878de387cf10f90c7ad65f_LangGraph---Memory-HQ.gif) [![](https://cdn.prod.website-files.com/65b8cd72835ceeacd4449a53/678e35d6c553c4fb20f9b753_Frame%2099644.webp)![](https://cdn.prod.website-files.com/65b8cd72835ceeacd4449a53/6787ae0bce5c99dd808545ce_card%202.webp)](https://academy.langchain.com/courses/intro-to-langgraph) Design agent-driven user experiences with LangGraph Platform's APIs. Quickly deploy and scale your application with infrastructure built for agents. The next chapter in building complex production-ready features with LLMs is agentic, and with LangGraph and LangSmith, LangChain delivers an out-of-the-box solution to iterate quickly, debug immediately, and scale effortlessly.\\u201d The next chapter in building complex production-ready features with LLMs is agentic, and with LangGraph and LangSmith, LangChain delivers an out-of-the-box solution to iterate quickly, debug immediately, and scale effortlessly.\\u201d LangGraph Platform is a service for deploying and scaling LangGraph applications, with an opinionated API for building agent UXs, plus an integrated developer studio.\", \"score\": 0.70263255, \"raw_content\": null}], \"response_time\": 1.91}\n",
      "Assistant: LangGraph is a low-level orchestration framework designed to build resilient, controllable AI agents. Here are the key details:\n",
      "\n",
      "- Purpose: LangGraph enables developers to construct customizable agent architectures, manage long-term memory, and integrate human-in-the-loop controls. It is built for creating adaptable AI agents capable of handling complex tasks reliably.\n",
      "- Relationships: While LangGraph can work as a standalone library, it also integrates seamlessly with LangChain, a more general library for composable Large Language Model (LLM) applications.\n",
      "- Features:\n",
      "  - Customizable agent workflows (various agent architectures)\n",
      "  - Support for agent memory (long-term and contextual memory)\n",
      "  - Human-in-the-loop support for oversight and control\n",
      "  - Designed for production-readiness, with features for quick debugging, iteration, and scaling\n",
      "  - Used by companies like Replit, Uber, LinkedIn, and GitLab\n",
      "- Platform: LangGraph Platform provides APIs and infrastructure to rapidly deploy and scale applications built using LangGraph.\n",
      "\n",
      "For more details and tutorials, you can visit the LangChain LangGraph page or its GitHub repository.\n",
      "Assistant: n8n is an open-source workflow automation tool that enables users to connect various applications and automate tasks without requiring extensive programming knowledge. Here are some key points about n8n:\n",
      "\n",
      "1. **Open Source**: n8n is open-source, meaning its source code is publicly available and can be self-hosted, customized, and extended as needed.\n",
      "\n",
      "2. **Workflow Automation**: It allows users to build workflows—visual representations of automation logic—by connecting different services, databases, and APIs.\n",
      "\n",
      "3. **Node-Based Interface**: n8n uses a node-based graphical interface, making it relatively user-friendly for non-coders. Each \"node\" represents a step or an action, such as sending an email, fetching data from an API, or executing JavaScript code.\n",
      "\n",
      "4. **Extensibility**: Developers can create custom nodes if their required services or logic are not available out of the box.\n",
      "\n",
      "5. **Supported Integrations**: n8n supports hundreds of integrations out of the box, including popular tools like Slack, Google Sheets, GitHub, Jira, databases, and more.\n",
      "\n",
      "6. **Self-Hosting & Cloud Options**: While users can self-host n8n for free, there is also a managed cloud offering available for those who prefer a hands-off infrastructure approach.\n",
      "\n",
      "7. **Flexible Licensing**: n8n uses the Fair-Code License—the source code is open, but there are some restrictions for commercial SaaS providers.\n",
      "\n",
      "8. **Active Community**: n8n has an active community, providing plugins, workflow templates, and support.\n",
      "\n",
      "9. **Popular Use Cases**:\n",
      "   - Automating repetitive business processes\n",
      "   - Syncing data between apps and databases\n",
      "   - Sending notifications based on events\n",
      "   - ETL (Extract, Transform, Load) processes\n",
      "\n",
      "Overall, n8n is positioned as a flexible, community-driven alternative to commercial automation platforms like Zapier, Integromat (now Make), and Power Automate, especially for users who want more control or customization over their automations.\n",
      "\n",
      "Do you want specific details such as examples, installation steps, or comparisons with other tools?\n",
      "Assistant: Hello! How can I help you today?\n",
      "Goodbye!\n"
     ]
    }
   ],
   "source": [
    "def stream_graph_updates(user_input: str):\n",
    "    for event in graph.stream({\"messages\": [{\"role\": \"user\", \"content\": user_input}]}):\n",
    "        for value in event.values():\n",
    "            print(\"Assistant:\", value[\"messages\"][-1].content)\n",
    "\n",
    "while True:\n",
    "    try:\n",
    "        user_input = input(\"User: \")\n",
    "        if user_input.lower() in [\"quit\", \"exit\", \"q\"]:\n",
    "            print(\"Goodbye!\")\n",
    "            break\n",
    "\n",
    "        stream_graph_updates(user_input)\n",
    "    except:\n",
    "        # fallback if input() is not available\n",
    "        user_input = \"What do you know about LangGraph?\"\n",
    "        print(\"User: \" + user_input)\n",
    "        stream_graph_updates(user_input)\n",
    "        break"
   ]
  },
  {
   "cell_type": "code",
   "execution_count": 18,
   "metadata": {},
   "outputs": [],
   "source": [
    "from typing import Annotated\n",
    "\n",
    "from langchain_tavily import TavilySearch\n",
    "from langchain_core.messages import BaseMessage\n",
    "from typing_extensions import TypedDict\n",
    "\n",
    "from langgraph.graph import StateGraph, START, END\n",
    "from langgraph.graph.message import add_messages\n",
    "from langgraph.prebuilt import ToolNode, tools_condition\n",
    "\n",
    "class State(TypedDict):\n",
    "    messages: Annotated[list, add_messages]\n",
    "\n",
    "graph_builder = StateGraph(State)\n",
    "\n",
    "tool = TavilySearch(max_results=2)\n",
    "tools = [tool]\n",
    "llm_with_tools = llm.bind_tools(tools)\n",
    "\n",
    "def chatbot(state: State):\n",
    "    return {\"messages\": [llm_with_tools.invoke(state[\"messages\"])]}\n",
    "\n",
    "graph_builder.add_node(\"chatbot\", chatbot)\n",
    "\n",
    "tool_node = ToolNode(tools=[tool])\n",
    "graph_builder.add_node(\"tools\", tool_node)\n",
    "\n",
    "graph_builder.add_conditional_edges(\n",
    "    \"chatbot\",\n",
    "    tools_condition,\n",
    ")\n",
    "# Any time a tool is called, we return to the chatbot to decide the next step\n",
    "graph_builder.add_edge(\"tools\", \"chatbot\")\n",
    "graph_builder.add_edge(START, \"chatbot\")\n",
    "graph = graph_builder.compile()"
   ]
  },
  {
   "cell_type": "code",
   "execution_count": 19,
   "metadata": {},
   "outputs": [
    {
     "name": "stdout",
     "output_type": "stream",
     "text": [
      "Assistant: \n",
      "Assistant: {\"query\": \"LEE JAE MOUNG profile, background, news\", \"follow_up_questions\": null, \"answer\": null, \"images\": [], \"results\": [{\"url\": \"https://www.youtube.com/watch?v=VM598IITCl4\", \"title\": \"[Korea's Choice] Lee Jae-myung Claims 'TK Roots' in Bid ... - YouTube\", \"content\": \"【 Reporter 】\\n  Lee Jae-myung, the Democratic Party of Korea's presidential candidate, visited Daegu ahead of the Yeongnam regional primary this Sunday.\\n\\n  He repeatedly emphasized that his hometown is Andong, North Gyeongsang Province, and he is putting all his efforts into the Democratic Party of Korea's challenging pledges. [...] 【 Anchor's Commentary 】\\nLee Jae-myung, the Democratic Party of Korea's presidential candidate, visited Daegu, emphasizing that he is \\\"the son of Daegu and Gyeongbuk\\\" while trying to capture the Democratic Party of Korea's challenging voter sentiment in Yeongnam.\\n  Kim Dong-yeon, another candidate, also unveiled his Yeongnam pledges on the same day. [...] ▶ Interview: Lee Jae-myung / Democratic Party of Korea Presidential Candidate\\n- \\\"I buried my placenta in Andong and grew up eating the water and food from Daegu and Gyeongbuk. I have a special affection for this area...\\\"\\n\\n  He also proposed pledges tailored to the region, such as establishing a secondary battery industry belt and a future automobile parts cluster in Daegu and Gyeongbuk, and relocating the Ministry of Oceans and Fisheries to Busan, Ulsan, and Gyeongsangnam-do.\", \"score\": 0.5809471, \"raw_content\": null}, {\"url\": \"https://en.wikipedia.org/wiki/Lee_Jae-yoon\", \"title\": \"Lee Jae-yoon - Wikipedia\", \"content\": \"Early life and education\\n\\nLee was born to Lee Hwan-mook and Oh Young-hee[4] in Seoul, South Korea[1] on December 15, 1984,[15][16] and raised in Toronto, Ontario, Canada.[1][8] He attended the St. Elizabeth Catholic High School[4] in Thornhill, Ontario for his secondary education. Lee was completing a degree in sports at the University of Toronto when he was scouted by a South Korean talent agency in an audition, and thus introduced into Korean show business.[1] [...] As an athlete, Lee has been working closely with the sportswear and sports gear brand Puma, both as an endorser and ambassador.[18] He regularly joins the Puma Run events in Singapore and Malaysia.[13][19]\\n\\nRelationship\\n\\nIn October 5, 2022, it was confirmed that Lee will hold a wedding ceremony with his non-celebrity girlfriend in November 2022.[20]\\n\\nFilmography\\n\\nTelevision series [...] In an interview,[1] Lee disclosed that his beginnings as an actor in South Korea came with some challenges and difficulties. Besides the very competitive auditions for roles, there were also the suggestions and offers for him to do cosmetic surgery; to trim his nose, soften his jawline, and straighten his teeth.[1] But Lee said he decided not to do any of the procedures because he felt he was doing away with what his parents have naturally given him in terms of appearance, and that he hated the\", \"score\": 0.43180037, \"raw_content\": null}], \"response_time\": 3.6}\n",
      "Assistant: Based on the most relevant and recent sources, there may be some confusion about the name \"LEE JAE MOUNG.\" The closest prominent figure is Lee Jae-myung, a well-known South Korean politician:\n",
      "\n",
      "- Lee Jae-myung is a leading figure of the Democratic Party of Korea and has been a presidential candidate.\n",
      "- He has roots in the North Gyeongsang Province (hometown Andong) and emphasizes his regional background in his political campaigns.\n",
      "- He has advocated for economic development policies in the Yeongnam region, such as developing secondary battery industries and future vehicle parts clusters.\n",
      "- Lee Jae-myung has been active in proposing and representing policies intended for regional revitalization and is a significant political figure in South Korea.\n",
      "\n",
      "If you meant someone else (for example, Lee Jae-yoon, an actor, or another public figure), please specify, and I can provide information accordingly.\n",
      "Assistant: Hello! How can I help you today? If you have a question or need assistance, feel free to let me know.\n",
      "Assistant: \n",
      "Assistant: {\"query\": \"current President of the United States\", \"follow_up_questions\": null, \"answer\": null, \"images\": [], \"results\": [{\"title\": \"President of the United States - Wikipedia\", \"url\": \"https://en.wikipedia.org/wiki/President_of_the_United_States\", \"content\": \"Learn about the history, powers, and role of the president of the United States, the head of state and government of the country. The current president is Donald Trump, who took office in 2025.\", \"score\": 0.8846886, \"raw_content\": null}, {\"title\": \"President Donald J. Trump - The White House\", \"url\": \"https://www.whitehouse.gov/administration/donald-j-trump/\", \"content\": \"Learn about President Trump's achievements, biography, and plans for his second term in office. He won a landslide election in 2024 and aims to reject the radical left and improve the quality of life for Americans.\", \"score\": 0.5367749, \"raw_content\": null}], \"response_time\": 2.22}\n",
      "Assistant: 현재 미국 대통령은 도널드 트럼프(Donald Trump)입니다. 그는 2025년부터 대통령직을 맡고 있습니다.\n",
      "Assistant: Hi! How can I assist you today?\n",
      "Assistant: \n",
      "Assistant: {\"query\": \"현재 대한민국 대통령\", \"follow_up_questions\": null, \"answer\": null, \"images\": [], \"results\": [{\"title\": \"대한민국 대통령실\", \"url\": \"https://www.president.go.kr/\", \"content\": \"대한민국 대통령 공식 홈페이지. 홈페이지 이관 안내. 윤석열 정부 대통령실 홈페이지는 추후 대통령기록관 홈페이지에서 만나실 수 있습니다. 그동안 방문해 주신 국민께 진심으로 감사드립니다.\", \"score\": 0.48528314, \"raw_content\": null}, {\"title\": \"대한민국 대통령 - 위키백과, 우리 모두의 백과사전\", \"url\": \"https://ko.wikipedia.org/wiki/대한민국_대통령\", \"content\": \"대통령은 헌법과 법률이 정하는 바에 의하여 국군을 통수한다(헌법 제74조).[8] 다만 군사에 관한 중요사항의 경우 국가안전보장회의의 자문과 국무회의의 심의를 거쳐 국무총리와 관계 국무위원이 부서한 문서로 하여야 하며(헌법 제91조, 제89조 제6호, 제82조), 선전포고나 국군의 외국 파견 등에는 국회의 사전 동의를 필요로 한다(헌법 제60조 제2항). 헌법 제79조 제1항은 “대통령은 법률이 정하는 바에 의하여 사면·감형 또는 복권을 명할 수 있다”, \\\"일반 사면은 국회의 동의를 거쳐야 한다\\\"고 하여 대통령의 사면권을 규정하고 있으며, 이에 따라 사면법이 정해져 있다.[11] 대통령은 국정의 중요한 사항에 관한 대통령의 자문에 응하기 위하여 국가원로로 구성되는 국가원로자문회의를 둘 수 있으며(제90조), 평화통일정책의 수립에 관한 대통령의 자문에 응하기 위하여 민주평화통일자문회의(제92조)를 둘 수 있다. 이 직위는 대한민국 헌법 제71조 \\\"대통령이 궐위되거나 사고로 인하여 직무를 수행할 수 없을 때에는 국무총리, 법률이 정한 국무위원의 순서로 그 권한을 대행한다.\\\"에 규정되어 있다.\", \"score\": 0.33613545, \"raw_content\": null}], \"response_time\": 2.07}\n",
      "Assistant: 현재 대한민국(한국) 대통령은 윤석열입니다.\n",
      "Assistant: 무엇을 검색해드릴까요? 궁금하신 주제나 원하는 정보를 말씀해주시면 인터넷에서 최신 정보를 찾아드릴 수 있습니다. 알고 싶은 내용을 구체적으로 말씀해 주세요!\n",
      "Assistant: \n",
      "Assistant: {\"query\": \"현재 한국 대통령\", \"follow_up_questions\": null, \"answer\": null, \"images\": [], \"results\": [{\"title\": \"대한민국 대통령실\", \"url\": \"https://www.president.go.kr/\", \"content\": \"대한민국 대통령 공식 홈페이지. 홈페이지 이관 안내. 윤석열 정부 대통령실 홈페이지는\", \"score\": 0.44189036, \"raw_content\": null}, {\"title\": \"대한민국 대통령 - 위키백과, 우리 모두의 백과사전\", \"url\": \"https://ko.wikipedia.org/wiki/대한민국_대통령\", \"content\": \"대통령은 헌법과 법률이 정하는 바에 의하여 국군을 통수한다(헌법 제74조).[8] 다만 군사에 관한 중요사항의 경우 국가안전보장회의의 자문과 국무회의의 심의를 거쳐 국무총리와 관계 국무위원이 부서한 문서로 하여야 하며(헌법 제91조, 제89조 제6호, 제82조), 선전포고나 국군의 외국 파견 등에는 국회의 사전 동의를 필요로 한다(헌법 제60조 제2항). 헌법 제79조 제1항은 “대통령은 법률이 정하는 바에 의하여 사면·감형 또는 복권을 명할 수 있다”, \\\"일반 사면은 국회의 동의를 거쳐야 한다\\\"고 하여 대통령의 사면권을 규정하고 있으며, 이에 따라 사면법이 정해져 있다.[11] 대통령은 국정의 중요한 사항에 관한 대통령의 자문에 응하기 위하여 국가원로로 구성되는 국가원로자문회의를 둘 수 있으며(제90조), 평화통일정책의 수립에 관한 대통령의 자문에 응하기 위하여 민주평화통일자문회의(제92조)를 둘 수 있다. 이 직위는 대한민국 헌법 제71조 \\\"대통령이 궐위되거나 사고로 인하여 직무를 수행할 수 없을 때에는 국무총리, 법률이 정한 국무위원의 순서로 그 권한을 대행한다.\\\"에 규정되어 있다.\", \"score\": 0.2649658, \"raw_content\": null}], \"response_time\": 2.54}\n",
      "Assistant: 현재 대한민국(한국)의 대통령은 윤석열입니다.\n",
      "Assistant: Hello! How can I assist you today?\n",
      "Assistant: \n",
      "Assistant: {\"query\": \"윤석열 헌법재판소 파면 결정 사실 여부\", \"follow_up_questions\": null, \"answer\": null, \"images\": [], \"results\": [{\"url\": \"https://www.youtube.com/watch?v=ZfXXJCIZmnY&pp=0gcJCdgAo7VqN5tD\", \"title\": \"헌재, 윤석열 대통령 탄핵 인용..대통령직 '파면' - [끝까지LIVE] MBC ...\", \"content\": \"그런 역할을 해야 되지 않을까에 대한 생각이 있습니다. 아무래도 민주당에서는 그 윤석열 전 대통령에 대한 파면이 국민적인 사건으로 봤을 때는 또 다른 비극이고 두 번째기 때문에 많이 차분해야 된다라고는 하지만이 파면 결정이 결국에는 헌법을 수호하고 국민들이 승리했다라고 하는 그런 지점은 변하지 않습니다. 사실 헌법 재판소에서 판단했던 내용 하나하나를 조목조목 헌법 재판관들이 어 읊어줬던 것 같은데요. 국민의임과 그 윤석열 대통령 측에서 주장했던 내용들이 사실상 다 모두 탄핵됐었습니다. 그렇기 때문에 어 기본적인 포령 문제부터 국허 문란의 내용들까지 윤성열 전 대동령 한테는 굉장히 그 다음에 있을 형사 재판에도 굉장히 불리한 점으로 작용할 수 있는 부분이고 실제로 국민들 앞에서 헌법과 법률을 위반했던 지도자에 대한 그 책임을 묻는 행위는 지속되지 않을까 싶습니다. 사실 지금 8대 0 인용 결정이 났지만 아직까지 한독수 권한대행은 마언역 재판관을 임명하지 않아서 불법을 지속하고 있는 [...] 헌법재판소 여덟번의 재판관들께 진심으로 감사와 경의를 표합니다. 고맙습니다. 응. 탄핵소추 대리인단 송두한입니다. 여러분 정말 오랫동안 참고 기다려 오셨습니다. 오늘 조금 전에 대통령 윤성열을 대통령 측에서 파면하는 결정이 선고되었습니다. 작년 12월 3일 불법 무도한 비상기 선포일로부터 122일이 지나는 날이고 국회의 탄핵 소추일로부터는 111일 만에 결정 선고된 것입니다. 우리는이 탄핵 심판 사건의 결론이 이렇게 늦게 나오리라고는 생각하지 못했습니다. 사실 관계 그리고 위헌 위법성이 단순 명백하고 따라서 파면 결정은 지극히 당연하고 불가피하다고 모두 확신했습니다. 애당초 비상 자체가 헌법 법률이 정한 실체적 절차적 요건을 전혀 갖추지 못했을뿐만 아니라 국회 선관위 등 헌법 기관의 권능을 함부로 침탈하고자 무단입, 요인 체포 시도 등 위헌 위법한 만행을 저지르는 그 현장 상황을 우리 온 국민이 실시간 영상으로 목도하고 또 생생한 증언이 이어졌기 때문입니다. 그런데도이 사건 결론이 [...] 제시된 걸로 알고 있습니다. 그러니까 형사소송법을 이제 탄핵 심판하는 징계 절차기 때문에 준용은 안 했는데 이번엔 준용은 안 했는데 그에 대한 절차적 하자 논란이 많으니까 그에 대해서 법을 만들든지 혹은 헌법 재판소 규칙 대한 국민의 신임을 배반한 대통령이 심판받은 역사적인 날 MBC 뉴스 특보 이어가겠습니다. 먼저 윤성열 전 대통령에 대한 헌법 재판소의 파면 결정부터 다시 한번 정리하고 가겠습니다. 재판관 전원일치 8대 0으로 인용된 헌재 파면 결정을 김현지 기자가 정리했습니다. 윤성열 대통령이 123 비상 개엄을 선포한지 122일 만에 파면됐습니다. 오늘 오전 11시 22분 문영배 헌법 재판소장 권한대행은 윤대통령을 파면한다는 탄핵심판 선고 주문을 읽었습니다. 주문 비청구인 대통령 윤성열을 파면한다. 헌법 재판관 여덟명 전원 일치된 의견이었습니다. 파면의 효력은 즉시 발생해이 순간 윤대통령은 직위를 잃었습니다. 헌재는 탄핵 소추 사유 다섯 가지를 하나씩 언급하며 위헌 위법성과\", \"score\": 0.78866494, \"raw_content\": null}, {\"url\": \"https://www.ohmynews.com/NWS_Web/Series/series_premium_pg.aspx?CNTN_CD=A0003116622\", \"title\": \"'윤석열 파면' 헌재 결정문 83쪽부터 다시 써야 하는 이유 - 오마이뉴스\", \"content\": \"2025년 4월 4일 헌법재판소(헌재)는 대통령 윤석열에 대한 탄핵심판사건에서 윤석열에 대한 파면을 선고했다(2024헌나8). 헌정질서의 관점이고 참으로\", \"score\": 0.78512776, \"raw_content\": null}], \"response_time\": 3.16}\n",
      "Assistant: 제가 확인한 바로는, 윤석열 대통령이 헌법재판소 결정에 따라 파면되었다는 내용이 인터넷에 게시되어 있습니다. MBC 등 언론 보도와 일부 기사, 그리고 '오마이뉴스' 등에서 2025년 4월 4일, 헌법재판소가 윤석열 대통령에 대해 파면을 선고했다는 정보가 나와 있습니다.\n",
      "\n",
      "하지만 현재(2024년 6월 기준) 이와 관련한 실질적인 공식 뉴스(예: 연합뉴스, KBS 등 주요 언론의 실시간 뉴스)나, 포털들의 톱뉴스 등에서는 윤석열 대통령 파면과 관련된 공식 보도가 확인되지 않습니다. 검색으로 확인된 영상 및 텍스트의 상당 부분은 2차, 3차 가공물일 가능성이 크며, 실제 사실 여부가 불분명하거나 가짜 뉴스, 패러디, 또는 시뮬레이션(가상 뉴스 등)일 수도 있습니다.\n",
      "\n",
      "따라서, 해당 정보가 진짜인지 반드시 공식 언론의 기사, 헌법재판소의 공식 발표, 정부 발표 등 신뢰할 수 있는 공식 출처를 추가로 확인하는 것이 필요합니다. \n",
      "만약 추가 확인이 필요하다면 말씀해 주세요.\n",
      "Assistant: 확인했습니다! 어떤 주제나 정보에 대해 인터넷 검색을 원하시는지 말씀해주시면, 실시간으로 추가 확인해드릴 수 있습니다. 궁금한 내용을 구체적으로 알려주세요!\n",
      "Assistant: Hi! How can I help you today?\n",
      "Assistant: \n",
      "Assistant: {\"query\": \"윤석열 파면 여부 사실 확인\", \"follow_up_questions\": null, \"answer\": null, \"images\": [], \"results\": [{\"url\": \"https://namu.wiki/w/%EC%9C%A4%EC%84%9D%EC%97%B4%20%EB%8C%80%ED%86%B5%EB%A0%B9%20%ED%83%84%ED%95%B5%20%EC%8B%AC%ED%8C%90/%EC%A7%84%ED%96%89%EB%82%B4%EC%97%AD\", \"title\": \"윤석열 대통령 탄핵 심판/진행내역 - 나무위키\", \"content\": \"윤석열 대통령 탄핵 심판 중 헌법재판소의 탄핵심판 절차의 세부 진행내역이다. 이하의 내역은 헌법재판소 홈페이지에서 사건검색 기능으로도 확인할 수\", \"score\": 0.98583, \"raw_content\": null}, {\"url\": \"https://www.youtube.com/watch?v=ZfXXJCIZmnY\", \"title\": \"헌재, 윤석열 대통령 탄핵 인용..대통령직 '파면' - [끝까지LIVE] MBC ...\", \"content\": \"헌재, 윤석열 대통령 탄핵 인용..대통령직 '파면' - [끝까지LIVE] MBC뉴스 2025년 04월 04일\\nMBCNEWS\\n5500000 subscribers\\n24650 likes\\n1596327 views\\n4 Apr 2025\\n헌법재판관 8명 중 6명 이상이 인용 의견을 밝혔다면, 윤석열 대통령은 파면됩니다. 문형배 헌법재판소장 권한대행이 심판정에서 \\\"파면한다\\\"는 주문을 읽는 즉시 효력이 발생합니다. 윤 대통령은 한남동 관저에서 퇴거해야 합니다. 경호·경비를 제외한 모든 예우가 박탈되고 연금도 받을 수 없습니다. 대통령의 형사상 불소추특권도 사라져 줄수사로 이어질 수 있습니다. 경찰은 이미 내란 우두머리 혐의 수사 당시 체포영장 집행을 방해한 혐의로 윤 대통령을 입건한 상태입니다. 서울중앙지검에서 하고 있는 명태균 수사와 공수처의 채 상병 외압 의혹 수사 등도 탄력을 받을 수 있습니다. 12·3 비상계엄 사태 수사가 군사적 충돌을 일부러 일으키려 했다는 외환 유치 의혹 수사로 확대될 수 있다는 전망도 나옵니다. 선거관리위원회는 60일 이내 대통령 선거를 실시합니다. 하지만 재판관 8명 중 3명 이상이 기각 또는 각하 의견이라면, 탄핵안 역시 기각되거나 각하됩니다. 윤 대통령은 직무에 복귀해 모든 권한을 되돌려 받습니다. 국군통수권자로서 이번 비상계엄에 참여했던 특수전사령부, 수도방위사령부, 방첩사령부에 다시 병력 이동도 지시할 수 있습니다. 또다시 비상계엄을 선포할 수 있는 조건은 다 갖추게 되는 겁니다.\\n\\n#탄핵선고 #헌법재판소 #윤석열 #탄핵심판 #헌재선고 #헌재라이브 #선고라이브 #MBC뉴스 #MBC #뉴스데스크 #뉴스투데이 #뉴스특보 #뉴스 #라이브 #실시간\\n\\nⓒ MBC&iMBC 무단 전재, 재배포 및 이용(AI학습 포함)금지\\n\\nAI오디오 사용 뉴스 콘텐츠 포함.\\n35 comments\\n\", \"score\": 0.98388, \"raw_content\": null}], \"response_time\": 3.8}\n",
      "Assistant: 최신 인터넷 검색 결과, 윤석열 대통령의 파면(탄핵 인용) 여부에 관한 정보는 확인되지 않습니다. 나무위키 등 신뢰할 만한 사이트에 따르면, \"윤석열 대통령 탄핵 심판\"이 진행된 절차는 있었으나, 실제로 헌법재판소에서 파면(탄핵 인용) 결정이 내려졌다는 공식적인 사실이나 뉴스는 없습니다.\n",
      "\n",
      "일부 유튜브나 인터넷 영상에서 파면이 인용되었다는 가상 뉴스, 또는 시뮬레이션 영상이 올라와 있으니, 이런 출처는 신중하게 사실 여부를 확인해야 합니다.\n",
      "\n",
      "즉, 2024년 6월 13일 현재 윤석열 대통령이 공식적으로 파면(탄핵 인용)되었다는 사실은 없습니다. 만약 공식적으로 파면되었다면, 주요 언론사 뉴스와 헌법재판소 공식 발표에서 즉시 확인할 수 있습니다.\n",
      "Assistant: Hello! How can I help you today?\n",
      "Assistant: \n",
      "Assistant: {\"query\": \"윤석열 대통령 파면 여부 2025년 5월 20일 기준\", \"follow_up_questions\": null, \"answer\": null, \"images\": [], \"results\": [{\"url\": \"https://www.bbc.com/korean/articles/cly20127n1lo\", \"title\": \"계엄부터 탄핵까지…'혼란의 4개월' 무슨 일 있었나? - BBC News 코리아\", \"content\": \"사진 설명, 계엄은 짧았지만, 이후 윤 대통령 탄핵을 둘러싸고 정국이 혼란스럽게 돌아갔고 탄핵심판 최종 선고일이 오기까지 예상보다 오랜 시간이 걸렸다\\n3시간 전\\n4월 4일은 윤석열 대통령의 정치적 운명을 결정할 헌법재판소의 탄핵심판 선고가 있는 날이다. 이로써 12·3 비상계엄 사태가 일어난 지 4개월여 만에 대통령 파면 여부가 결정된다.\\n윤 대통령은 지난해 12월 초 비상계엄을 선포했지만, 국회의원들이 국회에 모여 비상계엄 해제 요구 결의안을 빠르게 통과시키면서 약 6시간 만에 계엄이 해제됐다.\\n계엄은 짧았지만, 이후 윤 대통령 탄핵을 둘러싸고 정국이 혼란스럽게 돌아갔고 탄핵심판 최종 선고일이 오기까지 예상보다 오랜 시간이 걸렸다. 계엄부터 탄핵 선고에 이르기까지, 지난 4개월을 되짚어본다.\\n\\n\\n윤 대통령 선고기일 4월 4일 11시...눈여겨 봐야할 점 3가지2025년 4월 1일 [...] 정치\\n윤석열\\n한국\\n비상계엄\\n\\n관련 기사 더 보기\\n\\n\\n\\n윤석열 대통령은 왜 갑작스럽게 비상계엄을 선포했을까\\n2024년 12월 4일\\n\\n\\n\\n한국 사회, 정말 '내전'으로 치닫고 있나?\\n2025년 3월 25일\\n\\n\\n\\n'이젠 뉴스 보기도 지쳐요'… 계속되는 탄핵정국에 번아웃 온 시민들\\n2025년 3월 21일\\n\\n\\n\\n'역사를 되풀이할 셈인가요' … 계엄령 사태가 불러일으킨 트라우마\\n2024년 12월 7일\\n\\n\\n\\n한국의 혼란스러운 정치 상황을 바라보는 북한 김정은의 심경은?\\n2025년 3월 18일\\n\\n\\n\\n서부지법 사태, '2030이 절반 이상'... 이들은 누구인가\\n2025년 1월 20일\\n\\n\\n주요 뉴스\\n\\n\\n윤석열 대통령 전원일치 파면...'헌법 위반해 계엄 선포'\\n26분 전\\n\\n\\n계엄부터 탄핵까지…'혼란의 4개월' 무슨 일 있었나?\\n3시간 전\\n\\n\\n'캡사이신까지 꺼냈다'...윤석열 탄핵 선고 앞둔 서울은 긴장 속 준전시 상황\\n한 시간 전\\n\\n\\n이 시간 이슈\", \"score\": 0.62879556, \"raw_content\": null}, {\"url\": \"https://www.youtube.com/watch?v=ZfXXJCIZmnY&pp=0gcJCdgAo7VqN5tD\", \"title\": \"헌재, 윤석열 대통령 탄핵 인용..대통령직 '파면' - [끝까지LIVE] MBC ...\", \"content\": \"헌법재판관 8명 중 6명 이상이 인용 의견을 밝혔다면, 윤석열 대통령은 파면됩니다. 문형배 헌법재판소장 권한대행이 심판정에서 \\\"파면한다\\\"는 주문을 읽는 즉시 효력이 발생합니다. 윤 대통령은 한남동 관저에서 퇴거해야 합니다. 경호·경비를 제외한 모든 예우가 박탈되고 연금도 받을 수 없습니다. 대통령의 형사상 불소추특권도 사라져 줄수사로 이어질 수 있습니다. 경찰은 이미 내란 우두머리 혐의 수사 당시 체포영장 집행을 방해한 혐의로 윤 대통령을 입건한 상태입니다. 서울중앙지검에서 하고 있는 명태균 수사와 공수처의 채 상병 외압 의혹 수사 등도 탄력을 받을 수 있습니다. 12·3 비상계엄 사태 수사가 군사적 충돌을 일부러 일으키려 했다는 외환 유치 의혹 수사로 확대될 수 있다는 전망도 나옵니다. 선거관리위원회는 60일 이내 대통령 선거를 실시합니다. 하지만 재판관 8명 중 3명 이상이 기각 또는 각하 의견이라면, 탄핵안 역시 기각되거나 각하됩니다. 윤 대통령은 직무에 복귀해 모든 권한을 [...] 거 같습니다. 저는 오늘이 헌법 재판소의 파면 결정으로 대한민국의 대회 신인도가 급상승하리라고 생각합니다. 이런 나라가 어디습니까? 예. 무열의 혁명이에요. 피한방운을 안 흘리고 그야말로 헌법이 정한 절차에 따라서 헌법이 규정한 탄핵 이러한 제도를 이용해서 그 국민들 주권자인 국민들이이 탄핵을 하라는 그러한 의사를 천명했고 여덟 명의 헌법 재판관들이 그 국민의 명령을 받들어서 오늘 만장일치에 탄핵 결정에 이르렀다고 생각합니다. 입니다.이 이 최고 권력자인 대통령을 그것도 2017년 그다음에 2025년 예이 짧은 기간 안에 피한방을 흘리지 않고 이렇게 엄법이 정한 절차에 따라서 평화적인 방법으로 이렇게 권력을 교체하는 이런 것들은 정말 세계 어떤 민주주의 역사에서 기념비적인 사건으로 기록될 만하다고 생각하고 이러한 대한민국 국민 국민의 저력 그다음에 대한민국의이 민주주의 회복력을 외국이 받기 때문에 저는 우리 대한민국의 신 대회 신인도도 많이 올라가고 그리고 경제도 앞으로는 굉장히 [...] 헌재, 윤석열 대통령 탄핵 인용..대통령직 '파면' - [끝까지LIVE] MBC뉴스 2025년 04월 04일\\nMBCNEWS\\n5620000 subscribers\\n24795 likes\\n1622979 views\\n4 Apr 2025\", \"score\": 0.6063825, \"raw_content\": null}], \"response_time\": 3.36}\n",
      "Assistant: 최신 뉴스에 따르면, 윤석열 대통령은 2025년 4월 4일 헌법재판소의 만장일치(전원일치) 결정으로 대통령직에서 파면되었습니다. 이로써 윤석열은 더 이상 대통령이 아니며, 비상계엄 선포와 관련한 탄핵이 인용되어 파면이 확정되었습니다.\n",
      "\n",
      "요약:\n",
      "- 윤석열 대통령은 2025년 4월 4일 헌재 결정으로 파면됨\n",
      "- 2025년 5월 20일 현재 윤석열은 대통령이 아닙니다\n",
      "\n",
      "(참고: BBC News 코리아, MBC 뉴스 등 여러 주요 언론 보도를 종합)\n",
      "Assistant: Hi! How can I assist you today?\n",
      "Assistant: \n",
      "Assistant: {\"query\": \"2025년 5월 20일 현재 대한민국 대통령\", \"follow_up_questions\": null, \"answer\": null, \"images\": [], \"results\": [{\"title\": \"2025, 제21대 대통령 선거대선 일정 완벽 총정리(일정표)\", \"url\": \"https://reportandmore.tistory.com/649\", \"content\": \"2025년 4월 4일(금)예비후보자 등록 신청 시작2025년 4월 9일(수)인구수 등의 통보, 각급 선관위 위원 및 예비군 중대장급 이상 간부 사직 마감2025년 4월 14일(월)예비후보자 홍보물 발송수량 공고, 선거비용제한액 공고 및 통지2025년 4월 24일(목)국외부재자 신고 및 재외선거인 등록(변경) 신청 마감2025년 5월 4일(일)공직자 출마를 위한 사직 마감2025년 5월 6일(화) ~ 5월 10일(토)선거인명부 작성2025년 5월 10일(토) ~ 5월 11일(일)후보자 등록 신청 (매일 오전 9시 ~ 오후 6시)2025년 5월 12일(월)공식 선거운동 기간 시작, 선거방송토론위원회 주관 대담·토론회 시작2025년 5월 17일(토)선거벽보 첩부 마감2025년 5월 20일(화) ~ 5월 25일(일)재외투표소 투표 (매일 오전 8시 ~ 오후 5시)2025년 5월 21일(수)전단형 선거공보 제출 마감2025년 5월 24일(토)투표소 명칭 및 소재지 공고, 거소투표용지 및 투표안내문 발송 마감2025년 5월 26일(월) ~ 5월 29일(목)선상투표2025년 5월 29일(목) ~ 5월 30일(금)사전투표 (매일 오전 6시 ~ 오후 6시)2025년 6월 3일(화)본투표 (오전 6시 ~ 오후 8시), 투표 종료 후 즉시 개표2025년 6월 4일(수)당선자 대통령직 즉시 취임 (대통령직인수위원회 없이) 2025 대선 여론조사와 전문가 전망  (0)2025.04.282025 대선 국민의힘 후보 경선, 일정 완벽 총정리(시작과 끝)  (8)2025.04.28이재명 89.77%, 대선 후보 수락연설 내용 요약 총정리  (2)2025.04.27더불어민주당 제21대 대통령 선거 후보 이재명 수락연설 전문  (4)2025.04.27 2025년 대선 일정, 제21대 대통령 선거 일정, 투표 일정\", \"score\": 0.62906903, \"raw_content\": null}, {\"title\": \"2025년 21대 대통령선거 일정 총정리(날짜 요일 기간 사전투표일 거소투표·재외국민투표까지 한눈에!)\", \"url\": \"https://jintti.com/entry/2025년-21대-대통령선거-일정-총정리날짜-요일-기간-사전투표일-거소투표·재외국민투표까지-한눈에\", \"content\": \"2025년 21대 대통령선거 일정 총정리(날짜 요일 기간 사전투표일 거소투표·재외국민투표까지 한눈에!) 2025년 6월 3일, 대한민국 제21대 대통령선거가 조기 실시됩니다. 대한민국 제21대 대통령선거는 2025년 6월 3일 화요일에 실시됩니다. 대통령선거일 | 2025년 6월 3일 (화) 사전투표일 | 2025년 5월 29일(목) ~ 30일(금) 오전 6시 ~ 오후 6시 후보자 등록 | 2025년 5월 10일 ~ 11일 공식 선거운동 기간 | 2025년 5월 12일 ~ 6월 2일 사전 신청을 통해 우편으로 투표용지를 받아 투표할 수 있습니다. 재외국민투표는 해외에 거주하거나 체류 중인 대한민국 국민이 직접 귀국하지 않고 재외공관(대사관, 총영사관 등)에서 투표할 수 있는 제도입니다. ※ 거소·재외투표는 모두 신고 및 신청 기한이 있으며, 사전 신청 없이는 참여할 수 없습니다.정확한 일정과 신청 방법은 반드시 중앙선거관리위원회 공지사항을 통해 확인하세요.\", \"score\": 0.430507, \"raw_content\": null}], \"response_time\": 2.14}\n",
      "Assistant: 2025년 5월 20일 기준으로 대한민국에서는 아직 제21대 대통령 선거(본투표)가 치러지지 않았습니다. 대통령 선거일은 2025년 6월 3일로 예정되어 있어서, 5월 20일 현재의 대통령은 기존 대통령인 윤석열입니다. 새로운 대통령은 6월 4일에 곧바로 취임하게 됩니다.\n",
      "\n",
      "따라서, 2025년 5월 20일 현재 한국의 대통령은 윤석열입니다.\n",
      "Assistant: Hello! How can I assist you today?\n",
      "Goodbye!\n"
     ]
    }
   ],
   "source": [
    "def stream_graph_updates(user_input: str):\n",
    "    for event in graph.stream({\"messages\": [{\"role\": \"user\", \"content\": user_input}]}):\n",
    "        for value in event.values():\n",
    "            print(\"Assistant:\", value[\"messages\"][-1].content)\n",
    "\n",
    "while True:\n",
    "    try:\n",
    "        user_input = input(\"User: \")\n",
    "        if user_input.lower() in [\"quit\", \"exit\", \"q\"]:\n",
    "            print(\"Goodbye!\")\n",
    "            break\n",
    "\n",
    "        stream_graph_updates(user_input)\n",
    "    except:\n",
    "        # fallback if input() is not available\n",
    "        user_input = \"What do you know about LangGraph?\"\n",
    "        print(\"User: \" + user_input)\n",
    "        stream_graph_updates(user_input)\n",
    "        break"
   ]
  },
  {
   "cell_type": "markdown",
   "metadata": {},
   "source": [
    "### add memory"
   ]
  },
  {
   "cell_type": "code",
   "execution_count": 20,
   "metadata": {},
   "outputs": [],
   "source": [
    "from langgraph.checkpoint.memory import MemorySaver\n",
    "\n",
    "memory = MemorySaver()"
   ]
  },
  {
   "cell_type": "code",
   "execution_count": 21,
   "metadata": {},
   "outputs": [],
   "source": [
    "graph = graph_builder.compile(checkpointer=memory)\n"
   ]
  },
  {
   "cell_type": "code",
   "execution_count": 22,
   "metadata": {},
   "outputs": [
    {
     "data": {
      "image/png": "[encoded data removed]",
      "text/plain": [
       "<IPython.core.display.Image object>"
      ]
     },
     "metadata": {},
     "output_type": "display_data"
    }
   ],
   "source": [
    "from IPython.display import Image, display\n",
    "\n",
    "try:\n",
    "    display(Image(graph.get_graph().draw_mermaid_png()))\n",
    "except Exception:\n",
    "    # This requires some extra dependencies and is optional\n",
    "    pass"
   ]
  },
  {
   "cell_type": "code",
   "execution_count": 23,
   "metadata": {},
   "outputs": [],
   "source": [
    "config = {\"configurable\": {\"thread_id\": \"1\"}}"
   ]
  },
  {
   "cell_type": "code",
   "execution_count": 24,
   "metadata": {},
   "outputs": [
    {
     "name": "stdout",
     "output_type": "stream",
     "text": [
      "================================\u001b[1m Human Message \u001b[0m=================================\n",
      "\n",
      "Hi there! My name is Will.\n",
      "==================================\u001b[1m Ai Message \u001b[0m==================================\n",
      "\n",
      "Hello, Will! Nice to meet you. How can I help you today?\n"
     ]
    }
   ],
   "source": [
    "user_input = \"Hi there! My name is Will.\"\n",
    "\n",
    "# The config is the **second positional argument** to stream() or invoke()!\n",
    "events = graph.stream(\n",
    "    {\"messages\": [{\"role\": \"user\", \"content\": user_input}]},\n",
    "    config,\n",
    "    stream_mode=\"values\",\n",
    ")\n",
    "for event in events:\n",
    "    event[\"messages\"][-1].pretty_print()"
   ]
  },
  {
   "cell_type": "code",
   "execution_count": 25,
   "metadata": {},
   "outputs": [
    {
     "name": "stdout",
     "output_type": "stream",
     "text": [
      "================================\u001b[1m Human Message \u001b[0m=================================\n",
      "\n",
      "Remember my name?\n",
      "==================================\u001b[1m Ai Message \u001b[0m==================================\n",
      "\n",
      "Yes, your name is Will! How can I assist you today, Will?\n"
     ]
    }
   ],
   "source": [
    "user_input = \"Remember my name?\"\n",
    "\n",
    "# The config is the **second positional argument** to stream() or invoke()!\n",
    "events = graph.stream(\n",
    "    {\"messages\": [{\"role\": \"user\", \"content\": user_input}]},\n",
    "    config,\n",
    "    stream_mode=\"values\",\n",
    ")\n",
    "for event in events:\n",
    "    event[\"messages\"][-1].pretty_print()"
   ]
  },
  {
   "cell_type": "code",
   "execution_count": 26,
   "metadata": {},
   "outputs": [
    {
     "name": "stdout",
     "output_type": "stream",
     "text": [
      "================================\u001b[1m Human Message \u001b[0m=================================\n",
      "\n",
      "Remember my name?\n",
      "==================================\u001b[1m Ai Message \u001b[0m==================================\n",
      "\n",
      "I don’t have your name stored from this conversation. Could you please tell me your name? I’ll remember it for the rest of our chat!\n"
     ]
    }
   ],
   "source": [
    "# The only difference is we change the `thread_id` here to \"2\" instead of \"1\"\n",
    "events = graph.stream(\n",
    "    {\"messages\": [{\"role\": \"user\", \"content\": user_input}]},\n",
    "    {\"configurable\": {\"thread_id\": \"2\"}},\n",
    "    stream_mode=\"values\",\n",
    ")\n",
    "for event in events:\n",
    "    event[\"messages\"][-1].pretty_print()"
   ]
  },
  {
   "cell_type": "code",
   "execution_count": 27,
   "metadata": {},
   "outputs": [
    {
     "data": {
      "text/plain": [
       "StateSnapshot(values={'messages': [HumanMessage(content='Hi there! My name is Will.', additional_kwargs={}, response_metadata={}, id='fc511d23-c35d-474c-a710-96139c1fb15d'), AIMessage(content='Hello, Will! Nice to meet you. How can I help you today?', additional_kwargs={'refusal': None}, response_metadata={'token_usage': {'completion_tokens': 17, 'prompt_tokens': 775, 'total_tokens': 792, 'completion_tokens_details': {'accepted_prediction_tokens': 0, 'audio_tokens': 0, 'reasoning_tokens': 0, 'rejected_prediction_tokens': 0}, 'prompt_tokens_details': {'audio_tokens': 0, 'cached_tokens': 0}}, 'model_name': 'gpt-4.1-2025-04-14', 'system_fingerprint': 'fp_ccc6ec921d', 'id': 'chatcmpl-BYwOdBPdMGLUQCESF5dcVmjEhheDQ', 'service_tier': 'default', 'finish_reason': 'stop', 'logprobs': None}, id='run--bf338ce1-a641-410f-ac19-10d1da99fb8a-0', usage_metadata={'input_tokens': 775, 'output_tokens': 17, 'total_tokens': 792, 'input_token_details': {'audio': 0, 'cache_read': 0}, 'output_token_details': {'audio': 0, 'reasoning': 0}}), HumanMessage(content='Remember my name?', additional_kwargs={}, response_metadata={}, id='dee81b87-cc22-4586-9bec-56561cbd11c3'), AIMessage(content='Yes, your name is Will! How can I assist you today, Will?', additional_kwargs={'refusal': None}, response_metadata={'token_usage': {'completion_tokens': 17, 'prompt_tokens': 803, 'total_tokens': 820, 'completion_tokens_details': {'accepted_prediction_tokens': 0, 'audio_tokens': 0, 'reasoning_tokens': 0, 'rejected_prediction_tokens': 0}, 'prompt_tokens_details': {'audio_tokens': 0, 'cached_tokens': 0}}, 'model_name': 'gpt-4.1-2025-04-14', 'system_fingerprint': 'fp_ccc6ec921d', 'id': 'chatcmpl-BYwPKpg1WVLYB60JOm0bekplkHtsL', 'service_tier': 'default', 'finish_reason': 'stop', 'logprobs': None}, id='run--cb168495-dbc8-4a78-91c5-fda8fc888539-0', usage_metadata={'input_tokens': 803, 'output_tokens': 17, 'total_tokens': 820, 'input_token_details': {'audio': 0, 'cache_read': 0}, 'output_token_details': {'audio': 0, 'reasoning': 0}})]}, next=(), config={'configurable': {'thread_id': '1', 'checkpoint_ns': '', 'checkpoint_id': '1f034c34-3dff-6049-8004-5a58db39d960'}}, metadata={'source': 'loop', 'writes': {'chatbot': {'messages': [AIMessage(content='Yes, your name is Will! How can I assist you today, Will?', additional_kwargs={'refusal': None}, response_metadata={'token_usage': {'completion_tokens': 17, 'prompt_tokens': 803, 'total_tokens': 820, 'completion_tokens_details': {'accepted_prediction_tokens': 0, 'audio_tokens': 0, 'reasoning_tokens': 0, 'rejected_prediction_tokens': 0}, 'prompt_tokens_details': {'audio_tokens': 0, 'cached_tokens': 0}}, 'model_name': 'gpt-4.1-2025-04-14', 'system_fingerprint': 'fp_ccc6ec921d', 'id': 'chatcmpl-BYwPKpg1WVLYB60JOm0bekplkHtsL', 'service_tier': 'default', 'finish_reason': 'stop', 'logprobs': None}, id='run--cb168495-dbc8-4a78-91c5-fda8fc888539-0', usage_metadata={'input_tokens': 803, 'output_tokens': 17, 'total_tokens': 820, 'input_token_details': {'audio': 0, 'cache_read': 0}, 'output_token_details': {'audio': 0, 'reasoning': 0}})]}}, 'step': 4, 'parents': {}, 'thread_id': '1'}, created_at='2025-05-19T15:09:31.050187+00:00', parent_config={'configurable': {'thread_id': '1', 'checkpoint_ns': '', 'checkpoint_id': '1f034c34-347e-680b-8003-8ddd5bd1a0c4'}}, tasks=(), interrupts=())"
      ]
     },
     "execution_count": 27,
     "metadata": {},
     "output_type": "execute_result"
    }
   ],
   "source": [
    "snapshot = graph.get_state(config)\n",
    "snapshot"
   ]
  },
  {
   "cell_type": "code",
   "execution_count": 28,
   "metadata": {},
   "outputs": [
    {
     "data": {
      "text/plain": [
       "()"
      ]
     },
     "execution_count": 28,
     "metadata": {},
     "output_type": "execute_result"
    }
   ],
   "source": [
    "snapshot.next"
   ]
  },
  {
   "cell_type": "code",
   "execution_count": null,
   "metadata": {},
   "outputs": [],
   "source": []
  }
 ],
 "metadata": {
  "kernelspec": {
   "display_name": ".venv",
   "language": "python",
   "name": "python3"
  },
  "language_info": {
   "codemirror_mode": {
    "name": "ipython",
    "version": 3
   },
   "file_extension": ".py",
   "mimetype": "text/x-python",
   "name": "python",
   "nbconvert_exporter": "python",
   "pygments_lexer": "ipython3",
   "version": "3.12.4"
  }
 },
 "nbformat": 4,
 "nbformat_minor": 2
}
